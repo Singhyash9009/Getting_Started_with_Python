{
 "cells": [
  {
   "cell_type": "markdown",
   "id": "c979482e",
   "metadata": {},
   "source": [
    "# Introduction to Programming Using Python"
   ]
  },
  {
   "cell_type": "code",
   "execution_count": 1,
   "id": "ffad8cef",
   "metadata": {},
   "outputs": [
    {
     "name": "stdout",
     "output_type": "stream",
     "text": [
      "Hello, World!\n"
     ]
    }
   ],
   "source": [
    "#---------------------------------------------------\n",
    "# This is a demo program\n",
    "#---------------------------------------------------\n",
    "\n",
    "print(\"Hello, World!\")     # I wrote my first program. Isn't this easy!"
   ]
  },
  {
   "cell_type": "markdown",
   "id": "4a0fd580",
   "metadata": {},
   "source": [
    "# The print function"
   ]
  },
  {
   "cell_type": "code",
   "execution_count": 2,
   "id": "425bbbbf",
   "metadata": {},
   "outputs": [
    {
     "name": "stdout",
     "output_type": "stream",
     "text": [
      "Welcome to programming  !\n",
      "Programing is fun ! \n"
     ]
    }
   ],
   "source": [
    "print('Welcome to programming  !')\n",
    "print(\"Programing is fun ! \")"
   ]
  },
  {
   "cell_type": "markdown",
   "id": "5ab86b89",
   "metadata": {},
   "source": [
    "# print() is  a function.\n",
    "The print function outputs anything that you put within the brackets on the screen. \n",
    "When printing, characters always start and end with quotation marks. It can be ' or \". Always start and end with the same type of quotation mark.\n",
    "Numbers can be printed without quotation marks."
   ]
  },
  {
   "cell_type": "markdown",
   "id": "c70415a5",
   "metadata": {},
   "source": [
    "# Comments\n",
    "\n",
    "- As programs get bigger and more complicated, they get more difficult to read.\n",
    "- It is often difficult to look at a piece of code and figure out what it is doing, or why.\n",
    "- For this reason, it is a good idea to add notes to your programs to explain what the program is doing.\n",
    "- A comment in a computer program is intended only for the human reader — it is completely ignored by the interpreter.\n",
    "- In Python, the # token starts a comment. The rest of the line is ignored. "
   ]
  },
  {
   "cell_type": "markdown",
   "id": "00f906d8",
   "metadata": {},
   "source": [
    "# Variables\n",
    "\n",
    "- Variables are names given to data.\n",
    "- There are certain rules and conventions to follow when choosing a name for a variable.\n",
    "- Variable names can be arbitrarily long.\n",
    "- They can contain both letters and digits, but they have to <b>begin with a letter or an underscore.</b>\n",
    "- Although it is allowed, <b>it is not a good practice to begin variable names with uppercase letters.</b>\n",
    "- <b>Do not begin a variable with an underscore</b> as they have a special meaning. So a safe rule for beginners is to <b>start all names with a letter.</b>\n",
    "- The <b>underscore character can appear in a name.</b> It is often used in names with multiple words, eg: <b>price_of_tea_in_china</b>.\n",
    "- <b>If you give a variable an illegal name, you get a syntax error.</b>"
   ]
  },
  {
   "cell_type": "markdown",
   "id": "26493c67",
   "metadata": {},
   "source": [
    "# Let's Do Some Calculations"
   ]
  },
  {
   "cell_type": "code",
   "execution_count": 3,
   "id": "b3d00d68",
   "metadata": {},
   "outputs": [
    {
     "data": {
      "text/plain": [
       "3"
      ]
     },
     "execution_count": 3,
     "metadata": {},
     "output_type": "execute_result"
    }
   ],
   "source": [
    " 1 + 2"
   ]
  },
  {
   "cell_type": "code",
   "execution_count": 4,
   "id": "3a80a9c3",
   "metadata": {},
   "outputs": [
    {
     "data": {
      "text/plain": [
       "21"
      ]
     },
     "execution_count": 4,
     "metadata": {},
     "output_type": "execute_result"
    }
   ],
   "source": [
    "25 - 4"
   ]
  },
  {
   "cell_type": "code",
   "execution_count": 5,
   "id": "735ba60d",
   "metadata": {},
   "outputs": [
    {
     "data": {
      "text/plain": [
       "5.0"
      ]
     },
     "execution_count": 5,
     "metadata": {},
     "output_type": "execute_result"
    }
   ],
   "source": [
    "25 / 5"
   ]
  },
  {
   "cell_type": "code",
   "execution_count": 6,
   "id": "413a525f",
   "metadata": {},
   "outputs": [
    {
     "data": {
      "text/plain": [
       "10"
      ]
     },
     "execution_count": 6,
     "metadata": {},
     "output_type": "execute_result"
    }
   ],
   "source": [
    "5 * 2"
   ]
  },
  {
   "cell_type": "code",
   "execution_count": 7,
   "id": "29eb0757",
   "metadata": {},
   "outputs": [
    {
     "data": {
      "text/plain": [
       "0.0"
      ]
     },
     "execution_count": 7,
     "metadata": {},
     "output_type": "execute_result"
    }
   ],
   "source": [
    "0 / 1"
   ]
  },
  {
   "cell_type": "code",
   "execution_count": 8,
   "id": "6592dfd0",
   "metadata": {},
   "outputs": [
    {
     "name": "stdout",
     "output_type": "stream",
     "text": [
      "Hello\n"
     ]
    }
   ],
   "source": [
    "print(\"Hello\")"
   ]
  },
  {
   "cell_type": "markdown",
   "id": "4b7d4dc6",
   "metadata": {},
   "source": [
    "# Reserved Keywords"
   ]
  },
  {
   "cell_type": "markdown",
   "id": "94910ec2",
   "metadata": {},
   "source": [
    "Given below is a list of names which are reserved in Python and cannot be used as variable names. They called  keywords or identifiers."
   ]
  },
  {
   "cell_type": "markdown",
   "id": "6041a582",
   "metadata": {},
   "source": [
    "#### Reserved keywords in Python\n",
    "\n",
    "| _ | _ | _ |\n",
    "|:---:|:---:|---:|\n",
    "|False|class|finally|\n",
    "|is|return|None|\n",
    "|continue|for|lambda|\n",
    "|try|True|def|\n",
    "|from| nonlocal| while|\n",
    "|and|del|global|\n",
    "|not|with|as|\n",
    "|elif|if|or|\n",
    "|yield|assert|else|\n",
    "|import|pass|break|\n",
    "|except|in|raise|\t "
   ]
  },
  {
   "cell_type": "markdown",
   "id": "7ecc3822",
   "metadata": {},
   "source": [
    "# Creating Variables and Assigning Values"
   ]
  },
  {
   "cell_type": "markdown",
   "id": "d38530bf",
   "metadata": {},
   "source": [
    "## '=' is the assignment operator.\n",
    "a = 10 assigns the name 'a' to the value 10."
   ]
  },
  {
   "cell_type": "code",
   "execution_count": 9,
   "id": "19da35f8",
   "metadata": {},
   "outputs": [],
   "source": [
    "value = 235\n",
    "a = 43\n",
    "i = 1\n",
    "j = 1\n",
    "k = 1"
   ]
  },
  {
   "cell_type": "code",
   "execution_count": 10,
   "id": "0b195f47",
   "metadata": {},
   "outputs": [],
   "source": [
    "i = j = k = 1"
   ]
  },
  {
   "cell_type": "markdown",
   "id": "e91e1625",
   "metadata": {},
   "source": [
    "The below line will generate error\n",
    "del = 10 \n",
    "because del is a keyword"
   ]
  },
  {
   "cell_type": "markdown",
   "id": "db575304",
   "metadata": {},
   "source": [
    "# Operators in Python"
   ]
  },
  {
   "cell_type": "markdown",
   "id": "89ba1816",
   "metadata": {},
   "source": [
    "Arithmetic operators:\n",
    "\n",
    "| Operator | Description |\n",
    "| :------: | :---------: |\n",
    "| +        |Addition|\n",
    "| -        |Subtraction|\n",
    "| *        |Multiplication|\n",
    "| /        |Division|\n",
    "| %        |Modulus|\n",
    "| **       |Exponent|\n",
    "| //       |Floor Division|"
   ]
  },
  {
   "cell_type": "markdown",
   "id": "6b0cb461",
   "metadata": {},
   "source": [
    "# Create Integer Variables"
   ]
  },
  {
   "cell_type": "code",
   "execution_count": 11,
   "id": "843daa6b",
   "metadata": {},
   "outputs": [],
   "source": [
    "val = 23"
   ]
  },
  {
   "cell_type": "code",
   "execution_count": 12,
   "id": "5d2aafc0",
   "metadata": {},
   "outputs": [
    {
     "data": {
      "text/plain": [
       "28"
      ]
     },
     "execution_count": 12,
     "metadata": {},
     "output_type": "execute_result"
    }
   ],
   "source": [
    "val + 5"
   ]
  },
  {
   "cell_type": "code",
   "execution_count": 13,
   "id": "982295e3",
   "metadata": {},
   "outputs": [
    {
     "data": {
      "text/plain": [
       "19"
      ]
     },
     "execution_count": 13,
     "metadata": {},
     "output_type": "execute_result"
    }
   ],
   "source": [
    "val - 4"
   ]
  },
  {
   "cell_type": "code",
   "execution_count": 14,
   "id": "e32a72d9",
   "metadata": {},
   "outputs": [
    {
     "data": {
      "text/plain": [
       "736"
      ]
     },
     "execution_count": 14,
     "metadata": {},
     "output_type": "execute_result"
    }
   ],
   "source": [
    "val * 32"
   ]
  },
  {
   "cell_type": "code",
   "execution_count": 15,
   "id": "f66ccc58",
   "metadata": {},
   "outputs": [
    {
     "data": {
      "text/plain": [
       "True"
      ]
     },
     "execution_count": 15,
     "metadata": {},
     "output_type": "execute_result"
    }
   ],
   "source": [
    "val > 20"
   ]
  },
  {
   "cell_type": "code",
   "execution_count": 16,
   "id": "01fb27cb",
   "metadata": {},
   "outputs": [
    {
     "data": {
      "text/plain": [
       "2434243213234234235"
      ]
     },
     "execution_count": 16,
     "metadata": {},
     "output_type": "execute_result"
    }
   ],
   "source": [
    "#What is the max size of an integer. Let's try this value.\n",
    "x = 2434243213234234234\n",
    "x + 1"
   ]
  },
  {
   "cell_type": "code",
   "execution_count": 17,
   "id": "1bbf0939",
   "metadata": {},
   "outputs": [],
   "source": [
    "#Example of short-hand notation:\n",
    "a = 0\n",
    "a += 1 # a = a + 1​"
   ]
  },
  {
   "cell_type": "code",
   "execution_count": 18,
   "id": "84e0f980",
   "metadata": {},
   "outputs": [
    {
     "data": {
      "text/plain": [
       "1"
      ]
     },
     "execution_count": 18,
     "metadata": {},
     "output_type": "execute_result"
    }
   ],
   "source": [
    "a"
   ]
  },
  {
   "cell_type": "markdown",
   "id": "064fdecb",
   "metadata": {},
   "source": [
    "# Create Floating Point Variables"
   ]
  },
  {
   "cell_type": "code",
   "execution_count": 19,
   "id": "f056a5f7",
   "metadata": {},
   "outputs": [],
   "source": [
    "dollar_val = 59.3\n",
    "area = 2324.52"
   ]
  },
  {
   "cell_type": "code",
   "execution_count": 20,
   "id": "ea96170b",
   "metadata": {},
   "outputs": [
    {
     "data": {
      "text/plain": [
       "2.6666666666666665"
      ]
     },
     "execution_count": 20,
     "metadata": {},
     "output_type": "execute_result"
    }
   ],
   "source": [
    "8/3"
   ]
  },
  {
   "cell_type": "code",
   "execution_count": 21,
   "id": "48c4fcfc",
   "metadata": {},
   "outputs": [
    {
     "data": {
      "text/plain": [
       "2.0"
      ]
     },
     "execution_count": 21,
     "metadata": {},
     "output_type": "execute_result"
    }
   ],
   "source": [
    "4 / 2"
   ]
  },
  {
   "cell_type": "code",
   "execution_count": 22,
   "id": "f29b6e3f",
   "metadata": {},
   "outputs": [
    {
     "data": {
      "text/plain": [
       "4.0"
      ]
     },
     "execution_count": 22,
     "metadata": {},
     "output_type": "execute_result"
    }
   ],
   "source": [
    "1.2 + 2.8"
   ]
  },
  {
   "cell_type": "code",
   "execution_count": 23,
   "id": "3be27c98",
   "metadata": {},
   "outputs": [
    {
     "data": {
      "text/plain": [
       "6.8"
      ]
     },
     "execution_count": 23,
     "metadata": {},
     "output_type": "execute_result"
    }
   ],
   "source": [
    "3.4 * 2"
   ]
  },
  {
   "cell_type": "code",
   "execution_count": 24,
   "id": "fa2750ba",
   "metadata": {},
   "outputs": [
    {
     "data": {
      "text/plain": [
       "2.0"
      ]
     },
     "execution_count": 24,
     "metadata": {},
     "output_type": "execute_result"
    }
   ],
   "source": [
    "4.4 / 2.2"
   ]
  },
  {
   "cell_type": "markdown",
   "id": "c6819d52",
   "metadata": {},
   "source": [
    "# Create string variables"
   ]
  },
  {
   "cell_type": "code",
   "execution_count": 25,
   "id": "097a47d3",
   "metadata": {},
   "outputs": [
    {
     "data": {
      "text/plain": [
       "'helloworld'"
      ]
     },
     "execution_count": 25,
     "metadata": {},
     "output_type": "execute_result"
    }
   ],
   "source": [
    "name = \"helloworld\"\n",
    "name"
   ]
  },
  {
   "cell_type": "code",
   "execution_count": 26,
   "id": "08f1a244",
   "metadata": {},
   "outputs": [
    {
     "name": "stdout",
     "output_type": "stream",
     "text": [
      "DevOps is a culture.\n"
     ]
    }
   ],
   "source": [
    "quote = \"DevOps is a culture.\"\n",
    "name = 'John Doe'\n",
    "print(quote)"
   ]
  },
  {
   "cell_type": "code",
   "execution_count": 27,
   "id": "1bc04de3",
   "metadata": {},
   "outputs": [
    {
     "data": {
      "text/plain": [
       "'HelloWorld'"
      ]
     },
     "execution_count": 27,
     "metadata": {},
     "output_type": "execute_result"
    }
   ],
   "source": [
    "a = \"Hello\"\n",
    "b = \"World\"\n",
    "a+b"
   ]
  },
  {
   "cell_type": "code",
   "execution_count": 28,
   "id": "1bed884c",
   "metadata": {},
   "outputs": [
    {
     "data": {
      "text/plain": [
       "'HelloHello'"
      ]
     },
     "execution_count": 28,
     "metadata": {},
     "output_type": "execute_result"
    }
   ],
   "source": [
    "a*2"
   ]
  },
  {
   "cell_type": "code",
   "execution_count": 29,
   "id": "27c2f326",
   "metadata": {},
   "outputs": [
    {
     "data": {
      "text/plain": [
       "'GreatGreat'"
      ]
     },
     "execution_count": 29,
     "metadata": {},
     "output_type": "execute_result"
    }
   ],
   "source": [
    "\"Great\" * 2"
   ]
  },
  {
   "cell_type": "code",
   "execution_count": 30,
   "id": "cd458340",
   "metadata": {},
   "outputs": [
    {
     "data": {
      "text/plain": [
       "'Hi,I am John Doe'"
      ]
     },
     "execution_count": 30,
     "metadata": {},
     "output_type": "execute_result"
    }
   ],
   "source": [
    "sentence = 'Hi,I am John Doe'\n",
    "sentence"
   ]
  },
  {
   "cell_type": "markdown",
   "id": "9747d3b5",
   "metadata": {},
   "source": [
    "# id()\n",
    "    Return the identity of an object.\n",
    "    This is guaranteed to be unique among simultaneously existing objects."
   ]
  },
  {
   "cell_type": "code",
   "execution_count": 31,
   "id": "8325b203",
   "metadata": {},
   "outputs": [
    {
     "name": "stdout",
     "output_type": "stream",
     "text": [
      "2128971167104\n"
     ]
    }
   ],
   "source": [
    "print(id(sentence))"
   ]
  },
  {
   "cell_type": "code",
   "execution_count": 32,
   "id": "a2d92186",
   "metadata": {},
   "outputs": [
    {
     "name": "stdout",
     "output_type": "stream",
     "text": [
      "5.666666666666667\n",
      "5\n",
      "2\n",
      "25\n",
      "128\n",
      "2.0\n"
     ]
    }
   ],
   "source": [
    "print(17 / 3)  # classic division returns a float.\n",
    "print(17 // 3)  # floor division discards the fractional part and returns an integer.\n",
    "print(17 % 3)  # the % oprint(2 ** 7)  \n",
    "#perator returns the remainder of the division. Output is an integer.\n",
    "\n",
    "print(5 ** 2)  # 5 squared\n",
    "print(2 ** 7)  # 2 to the power of 7\n",
    "print(4**(1/2)) # the squareroot of 4. Notice that the result is a float."
   ]
  },
  {
   "cell_type": "markdown",
   "id": "6e9f045b",
   "metadata": {},
   "source": [
    "#### Operations in Python:\n",
    "\n",
    "|:---:|:---:|\n",
    "|==|Equal to|\n",
    "|!=|Not Equal to|\n",
    "|>|Greater than|\n",
    "|<|Less Than|\n",
    "|>=|Greater than or equal to|\n",
    "|<=|Less than or equal to|"
   ]
  },
  {
   "cell_type": "markdown",
   "id": "ebac5e83",
   "metadata": {},
   "source": [
    "- We have seen the two basic numeric types.\n",
    "- Python also has logical types.\n",
    "- This type of data is called Boolean.\n",
    "- The two possible Boolean values are, <b> True & False. </b>"
   ]
  },
  {
   "cell_type": "code",
   "execution_count": 33,
   "id": "705b24fd",
   "metadata": {},
   "outputs": [
    {
     "name": "stdout",
     "output_type": "stream",
     "text": [
      "False\n",
      "True\n",
      "True\n",
      "True\n"
     ]
    }
   ],
   "source": [
    "a = 100\n",
    "b = 100\n",
    "print(a != b)\n",
    "print(a >= b)\n",
    "print(a <= b)\n",
    "print(a==b)"
   ]
  },
  {
   "cell_type": "code",
   "execution_count": 34,
   "id": "f4f4f552",
   "metadata": {},
   "outputs": [
    {
     "name": "stdout",
     "output_type": "stream",
     "text": [
      "False\n"
     ]
    }
   ],
   "source": [
    "x = 505\n",
    "y = 500\n",
    "print(x == y)"
   ]
  },
  {
   "cell_type": "markdown",
   "id": "eb940577",
   "metadata": {},
   "source": [
    "# The type() function can be used to know the data type of the variable."
   ]
  },
  {
   "cell_type": "code",
   "execution_count": 35,
   "id": "31d0e3f1",
   "metadata": {},
   "outputs": [
    {
     "data": {
      "text/plain": [
       "int"
      ]
     },
     "execution_count": 35,
     "metadata": {},
     "output_type": "execute_result"
    }
   ],
   "source": [
    "type(55)"
   ]
  },
  {
   "cell_type": "code",
   "execution_count": 36,
   "id": "b0337801",
   "metadata": {},
   "outputs": [
    {
     "data": {
      "text/plain": [
       "int"
      ]
     },
     "execution_count": 36,
     "metadata": {},
     "output_type": "execute_result"
    }
   ],
   "source": [
    "a=10\n",
    "type(a)"
   ]
  },
  {
   "cell_type": "code",
   "execution_count": 37,
   "id": "cab11adf",
   "metadata": {},
   "outputs": [
    {
     "data": {
      "text/plain": [
       "float"
      ]
     },
     "execution_count": 37,
     "metadata": {},
     "output_type": "execute_result"
    }
   ],
   "source": [
    "b=12.34\n",
    "type(b)"
   ]
  },
  {
   "cell_type": "markdown",
   "id": "54220445",
   "metadata": {},
   "source": [
    "# Operator precedence"
   ]
  },
  {
   "cell_type": "code",
   "execution_count": 38,
   "id": "86a602d9",
   "metadata": {},
   "outputs": [
    {
     "data": {
      "text/plain": [
       "178"
      ]
     },
     "execution_count": 38,
     "metadata": {},
     "output_type": "execute_result"
    }
   ],
   "source": [
    "50 + (32 * 4)"
   ]
  },
  {
   "cell_type": "code",
   "execution_count": 39,
   "id": "05d23b1d",
   "metadata": {},
   "outputs": [
    {
     "data": {
      "text/plain": [
       "35.0"
      ]
     },
     "execution_count": 39,
     "metadata": {},
     "output_type": "execute_result"
    }
   ],
   "source": [
    "(10 * 3) + (25 / 5)"
   ]
  },
  {
   "cell_type": "code",
   "execution_count": 40,
   "id": "6456e70f",
   "metadata": {},
   "outputs": [
    {
     "data": {
      "text/plain": [
       "2417851639229258349412352"
      ]
     },
     "execution_count": 40,
     "metadata": {},
     "output_type": "execute_result"
    }
   ],
   "source": [
    "2 ** (3 ** 4)"
   ]
  },
  {
   "cell_type": "markdown",
   "id": "2e015444",
   "metadata": {},
   "source": [
    "# Evaluation of an expression using the interpreter"
   ]
  },
  {
   "cell_type": "code",
   "execution_count": 41,
   "id": "44098f0c",
   "metadata": {},
   "outputs": [
    {
     "data": {
      "text/plain": [
       "26"
      ]
     },
     "execution_count": 41,
     "metadata": {},
     "output_type": "execute_result"
    }
   ],
   "source": [
    "#3 + 5 + 9 * 2\n",
    "((3+5) + (9*2))"
   ]
  },
  {
   "cell_type": "code",
   "execution_count": 42,
   "id": "b2b0bf79",
   "metadata": {},
   "outputs": [
    {
     "data": {
      "text/plain": [
       "6"
      ]
     },
     "execution_count": 42,
     "metadata": {},
     "output_type": "execute_result"
    }
   ],
   "source": [
    "#What is the precedence order ? \n",
    "\n",
    "(5  + 3) - 2"
   ]
  },
  {
   "cell_type": "code",
   "execution_count": 43,
   "id": "24d33317",
   "metadata": {},
   "outputs": [
    {
     "data": {
      "text/plain": [
       "0"
      ]
     },
     "execution_count": 43,
     "metadata": {},
     "output_type": "execute_result"
    }
   ],
   "source": [
    "5 - (2 + 3)"
   ]
  },
  {
   "cell_type": "code",
   "execution_count": 44,
   "id": "13907ae6",
   "metadata": {},
   "outputs": [
    {
     "data": {
      "text/plain": [
       "6.0"
      ]
     },
     "execution_count": 44,
     "metadata": {},
     "output_type": "execute_result"
    }
   ],
   "source": [
    "#4 + 3 ** 2 / 3 – 1\n",
    "(4 + (3 ** 2) / (3) ) - 1"
   ]
  },
  {
   "cell_type": "code",
   "execution_count": 45,
   "id": "7913e346",
   "metadata": {},
   "outputs": [
    {
     "data": {
      "text/plain": [
       "1"
      ]
     },
     "execution_count": 45,
     "metadata": {},
     "output_type": "execute_result"
    }
   ],
   "source": [
    "#5 * 2 % 3\n",
    "(5 * 2 ) % 3"
   ]
  },
  {
   "cell_type": "code",
   "execution_count": 46,
   "id": "b3ef2822",
   "metadata": {},
   "outputs": [
    {
     "data": {
      "text/plain": [
       "26"
      ]
     },
     "execution_count": 46,
     "metadata": {},
     "output_type": "execute_result"
    }
   ],
   "source": [
    "# 3 + 5 + 9 * 2\n",
    "(3 + 5) + (9 * 2)"
   ]
  }
 ],
 "metadata": {
  "kernelspec": {
   "display_name": "Python 3",
   "language": "python",
   "name": "python3"
  },
  "language_info": {
   "codemirror_mode": {
    "name": "ipython",
    "version": 3
   },
   "file_extension": ".py",
   "mimetype": "text/x-python",
   "name": "python",
   "nbconvert_exporter": "python",
   "pygments_lexer": "ipython3",
   "version": "3.8.8"
  }
 },
 "nbformat": 4,
 "nbformat_minor": 5
}
